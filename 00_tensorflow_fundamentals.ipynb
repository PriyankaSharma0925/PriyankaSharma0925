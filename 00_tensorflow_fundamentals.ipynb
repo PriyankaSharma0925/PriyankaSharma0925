{
  "nbformat": 4,
  "nbformat_minor": 0,
  "metadata": {
    "colab": {
      "name": "00_tensorflow_fundamentals.ipynb",
      "provenance": [],
      "authorship_tag": "ABX9TyPMl8HpLD1VoniPrAoaR952",
      "include_colab_link": true
    },
    "kernelspec": {
      "name": "python3",
      "display_name": "Python 3"
    },
    "language_info": {
      "name": "python"
    }
  },
  "cells": [
    {
      "cell_type": "markdown",
      "metadata": {
        "id": "view-in-github",
        "colab_type": "text"
      },
      "source": [
        "<a href=\"https://colab.research.google.com/github/PriyankaSharma0925/PriyankaSharma0925/blob/main/00_tensorflow_fundamentals.ipynb\" target=\"_parent\"><img src=\"https://colab.research.google.com/assets/colab-badge.svg\" alt=\"Open In Colab\"/></a>"
      ]
    },
    {
      "cell_type": "markdown",
      "source": [
        "Introduction to tensorflow\n"
      ],
      "metadata": {
        "id": "dkQ5DVo8jh0i"
      }
    },
    {
      "cell_type": "code",
      "source": [
        "import tensorflow as tf\n",
        "print(tf.__version__)"
      ],
      "metadata": {
        "id": "m7BDMhgMFgZc",
        "outputId": "15e904f9-a177-4de4-a5b1-354890c3f235",
        "colab": {
          "base_uri": "https://localhost:8080/"
        }
      },
      "execution_count": null,
      "outputs": [
        {
          "output_type": "stream",
          "name": "stdout",
          "text": [
            "2.8.0\n"
          ]
        }
      ]
    },
    {
      "cell_type": "markdown",
      "source": [
        "Creatinfg tensor with tf.constant"
      ],
      "metadata": {
        "id": "DNWTe_XAFqxu"
      }
    },
    {
      "cell_type": "code",
      "source": [
        "scalar =tf.constant(7)\n",
        "scalar"
      ],
      "metadata": {
        "id": "EyLtuxMpGHeF",
        "outputId": "b84dc90c-1dbd-410c-8df1-56fff570958f",
        "colab": {
          "base_uri": "https://localhost:8080/"
        }
      },
      "execution_count": null,
      "outputs": [
        {
          "output_type": "execute_result",
          "data": {
            "text/plain": [
              "<tf.Tensor: shape=(), dtype=int32, numpy=7>"
            ]
          },
          "metadata": {},
          "execution_count": 3
        }
      ]
    },
    {
      "cell_type": "markdown",
      "source": [
        "Check the no. of dimensions"
      ],
      "metadata": {
        "id": "VlxolWRhJ1sH"
      }
    },
    {
      "cell_type": "code",
      "source": [
        "scalar.ndim"
      ],
      "metadata": {
        "id": "9kALBgj6Kvu3",
        "outputId": "f6bcc732-8ff2-4ceb-842e-bc4b6341c35e",
        "colab": {
          "base_uri": "https://localhost:8080/"
        }
      },
      "execution_count": null,
      "outputs": [
        {
          "output_type": "execute_result",
          "data": {
            "text/plain": [
              "0"
            ]
          },
          "metadata": {},
          "execution_count": 4
        }
      ]
    },
    {
      "cell_type": "markdown",
      "source": [
        "Create a vector"
      ],
      "metadata": {
        "id": "csxLcAlyK0A0"
      }
    },
    {
      "cell_type": "code",
      "source": [
        "vector=tf.constant([10,3])\n",
        "vector\n"
      ],
      "metadata": {
        "id": "YtFq5wZ_K94h",
        "outputId": "d796aa35-f73b-4eff-e519-ea7e10bee061",
        "colab": {
          "base_uri": "https://localhost:8080/"
        }
      },
      "execution_count": null,
      "outputs": [
        {
          "output_type": "execute_result",
          "data": {
            "text/plain": [
              "<tf.Tensor: shape=(2,), dtype=int32, numpy=array([10,  3], dtype=int32)>"
            ]
          },
          "metadata": {},
          "execution_count": 5
        }
      ]
    },
    {
      "cell_type": "code",
      "source": [
        "# creating a matrix\n",
        "\n",
        "matrix=tf.constant([[2,3,4,5],\n",
        "                    [3,5,5,8]])\n",
        "matrix"
      ],
      "metadata": {
        "id": "yzMX9CNOLJML",
        "outputId": "6d1baeb8-750f-45be-d536-dd2f1cd8ab64",
        "colab": {
          "base_uri": "https://localhost:8080/"
        }
      },
      "execution_count": null,
      "outputs": [
        {
          "output_type": "execute_result",
          "data": {
            "text/plain": [
              "<tf.Tensor: shape=(2, 4), dtype=int32, numpy=\n",
              "array([[2, 3, 4, 5],\n",
              "       [3, 5, 5, 8]], dtype=int32)>"
            ]
          },
          "metadata": {},
          "execution_count": 6
        }
      ]
    },
    {
      "cell_type": "code",
      "source": [
        "print(matrix.ndim)"
      ],
      "metadata": {
        "id": "I2AsjzCMcexT",
        "outputId": "205d18ba-358f-41a0-9f75-a15ed8a944bb",
        "colab": {
          "base_uri": "https://localhost:8080/"
        }
      },
      "execution_count": null,
      "outputs": [
        {
          "output_type": "stream",
          "name": "stdout",
          "text": [
            "2\n"
          ]
        }
      ]
    },
    {
      "cell_type": "code",
      "source": [
        "#creating a tensor\n",
        "tensor=tf.constant([[[2,1,4],\n",
        "                     [6,7,6]],\n",
        "                    [[3,4,5],\n",
        "                    [9,6,7]]])"
      ],
      "metadata": {
        "id": "KP3Q7hBRc2cY"
      },
      "execution_count": null,
      "outputs": []
    },
    {
      "cell_type": "code",
      "source": [
        "tensor"
      ],
      "metadata": {
        "id": "6ddzEQKXd_fy",
        "outputId": "101b9ac7-52bc-4c30-bb31-57a211e74156",
        "colab": {
          "base_uri": "https://localhost:8080/"
        }
      },
      "execution_count": null,
      "outputs": [
        {
          "output_type": "execute_result",
          "data": {
            "text/plain": [
              "<tf.Tensor: shape=(2, 2, 3), dtype=int32, numpy=\n",
              "array([[[2, 1, 4],\n",
              "        [6, 7, 6]],\n",
              "\n",
              "       [[3, 4, 5],\n",
              "        [9, 6, 7]]], dtype=int32)>"
            ]
          },
          "metadata": {},
          "execution_count": 9
        }
      ]
    },
    {
      "cell_type": "code",
      "source": [
        "tensor.ndim"
      ],
      "metadata": {
        "id": "urTGMUDPeBMu",
        "outputId": "6452ee67-dad1-4cef-d16e-4d508806aea3",
        "colab": {
          "base_uri": "https://localhost:8080/"
        }
      },
      "execution_count": null,
      "outputs": [
        {
          "output_type": "execute_result",
          "data": {
            "text/plain": [
              "3"
            ]
          },
          "metadata": {},
          "execution_count": 10
        }
      ]
    },
    {
      "cell_type": "markdown",
      "source": [
        "# Creating tensor with tf.variable"
      ],
      "metadata": {
        "id": "hhfuk0uLeESo"
      }
    },
    {
      "cell_type": "code",
      "source": [
        "changeable_tensor=tf.Variable([10,4,5])\n",
        "unchangeable_tensor=tf.constant([10,4,8])\n",
        "changeable_tensor\n",
        "unchangeable_tensor\n"
      ],
      "metadata": {
        "id": "t1DfHmhGfI0z",
        "outputId": "2f19b3f8-c23a-41f9-9c9c-2eacc4d50e2a",
        "colab": {
          "base_uri": "https://localhost:8080/"
        }
      },
      "execution_count": null,
      "outputs": [
        {
          "output_type": "execute_result",
          "data": {
            "text/plain": [
              "<tf.Tensor: shape=(3,), dtype=int32, numpy=array([10,  4,  8], dtype=int32)>"
            ]
          },
          "metadata": {},
          "execution_count": 11
        }
      ]
    },
    {
      "cell_type": "code",
      "source": [
        "changeable_tensor"
      ],
      "metadata": {
        "id": "vRP_XCRIwu3n",
        "outputId": "613bf2c9-89a5-4650-d4d5-d6bf31a61711",
        "colab": {
          "base_uri": "https://localhost:8080/"
        }
      },
      "execution_count": null,
      "outputs": [
        {
          "output_type": "execute_result",
          "data": {
            "text/plain": [
              "<tf.Variable 'Variable:0' shape=(3,) dtype=int32, numpy=array([10,  4,  5], dtype=int32)>"
            ]
          },
          "metadata": {},
          "execution_count": 12
        }
      ]
    },
    {
      "cell_type": "code",
      "source": [
        "changeable_tensor[0]"
      ],
      "metadata": {
        "id": "IsAiD6Plwx9V",
        "outputId": "ce79916d-a9b0-46b7-d2c7-bd302e1523f5",
        "colab": {
          "base_uri": "https://localhost:8080/"
        }
      },
      "execution_count": null,
      "outputs": [
        {
          "output_type": "execute_result",
          "data": {
            "text/plain": [
              "<tf.Tensor: shape=(), dtype=int32, numpy=10>"
            ]
          },
          "metadata": {},
          "execution_count": 13
        }
      ]
    },
    {
      "cell_type": "code",
      "source": [
        "# It will throw error as constant tensors are immutable.\n",
        "# changeable_tensor[0].assign(17) "
      ],
      "metadata": {
        "id": "1wVRCZ7dw6dd"
      },
      "execution_count": null,
      "outputs": []
    },
    {
      "cell_type": "markdown",
      "source": [
        "### Creating Random Tensor\n",
        "\n"
      ],
      "metadata": {
        "id": "AUKiQJwQxGkN"
      }
    },
    {
      "cell_type": "code",
      "source": [
        "tensor_1=tf.random.Generator.from_seed(6)\n",
        "tensor_1=tensor_1.normal(shape=(3,2))\n",
        "tensor_1"
      ],
      "metadata": {
        "id": "JiCZLELKWSLL",
        "colab": {
          "base_uri": "https://localhost:8080/"
        },
        "outputId": "2736187f-4a6f-4b55-c703-37818583bb42"
      },
      "execution_count": 23,
      "outputs": [
        {
          "output_type": "execute_result",
          "data": {
            "text/plain": [
              "<tf.Tensor: shape=(3, 2), dtype=float32, numpy=\n",
              "array([[ 0.97061104, -1.0242516 ],\n",
              "       [-0.6544423 , -0.29738766],\n",
              "       [-1.3240396 ,  0.28785667]], dtype=float32)>"
            ]
          },
          "metadata": {},
          "execution_count": 23
        }
      ]
    },
    {
      "cell_type": "markdown",
      "source": [
        "###\n",
        "Result will be same on every time we run the above code cell\n",
        "<tf.Tensor: shape=(3, 2), dtype=float32, numpy=\n",
        "array([[ 0.97061104, -1.0242516 ],\n",
        "       [-0.6544423 , -0.29738766],\n",
        "       [-1.3240396 ,  0.28785667]], dtype=float32)>"
      ],
      "metadata": {
        "id": "QuUYkkb8g1KI"
      }
    },
    {
      "cell_type": "code",
      "source": [
        "tensor_2=tf.random.Generator.from_seed(6)\n",
        "tensor_2=tensor_2.normal(shape=(3,2))\n",
        "tensor_2"
      ],
      "metadata": {
        "colab": {
          "base_uri": "https://localhost:8080/"
        },
        "id": "xJkIf7pKgQNn",
        "outputId": "08d06aca-9e64-4a85-e38c-50a76fa86e95"
      },
      "execution_count": 26,
      "outputs": [
        {
          "output_type": "execute_result",
          "data": {
            "text/plain": [
              "<tf.Tensor: shape=(3, 2), dtype=float32, numpy=\n",
              "array([[ 0.97061104, -1.0242516 ],\n",
              "       [-0.6544423 , -0.29738766],\n",
              "       [-1.3240396 ,  0.28785667]], dtype=float32)>"
            ]
          },
          "metadata": {},
          "execution_count": 26
        }
      ]
    },
    {
      "cell_type": "code",
      "source": [
        ""
      ],
      "metadata": {
        "id": "Qg_jVV81ghU9"
      },
      "execution_count": null,
      "outputs": []
    }
  ]
}