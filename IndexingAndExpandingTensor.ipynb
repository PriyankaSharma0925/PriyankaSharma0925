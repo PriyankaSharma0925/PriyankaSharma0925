{
  "nbformat": 4,
  "nbformat_minor": 0,
  "metadata": {
    "colab": {
      "name": "IndexingAndExpandingTensor.ipynb",
      "provenance": [],
      "authorship_tag": "ABX9TyOvRPYxIQNb3QkOKZncyhEb",
      "include_colab_link": true
    },
    "kernelspec": {
      "name": "python3",
      "display_name": "Python 3"
    },
    "language_info": {
      "name": "python"
    }
  },
  "cells": [
    {
      "cell_type": "markdown",
      "metadata": {
        "id": "view-in-github",
        "colab_type": "text"
      },
      "source": [
        "<a href=\"https://colab.research.google.com/github/PriyankaSharma0925/PriyankaSharma0925/blob/main/IndexingAndExpandingTensor.ipynb\" target=\"_parent\"><img src=\"https://colab.research.google.com/assets/colab-badge.svg\" alt=\"Open In Colab\"/></a>"
      ]
    },
    {
      "cell_type": "code",
      "execution_count": 2,
      "metadata": {
        "id": "0Ud56ccaKn0F"
      },
      "outputs": [],
      "source": [
        "import tensorflow as tf\n"
      ]
    },
    {
      "cell_type": "code",
      "source": [
        "print(tf.__version__)"
      ],
      "metadata": {
        "colab": {
          "base_uri": "https://localhost:8080/"
        },
        "id": "-sxG8tjUKrnK",
        "outputId": "de6f1bba-aaff-41d0-f670-710ced35c49b"
      },
      "execution_count": 3,
      "outputs": [
        {
          "output_type": "stream",
          "name": "stdout",
          "text": [
            "2.8.0\n"
          ]
        }
      ]
    },
    {
      "cell_type": "code",
      "source": [
        "tensor1=tf.constant([2,3,4,5,6,7,8,9],shape=(1,1,2,4))\n",
        "tensor1"
      ],
      "metadata": {
        "colab": {
          "base_uri": "https://localhost:8080/"
        },
        "id": "Zpc1DljjK3oh",
        "outputId": "d694bff5-1410-425e-e1c2-1c5f3114e2b1"
      },
      "execution_count": 4,
      "outputs": [
        {
          "output_type": "execute_result",
          "data": {
            "text/plain": [
              "<tf.Tensor: shape=(1, 1, 2, 4), dtype=int32, numpy=\n",
              "array([[[[2, 3, 4, 5],\n",
              "         [6, 7, 8, 9]]]], dtype=int32)>"
            ]
          },
          "metadata": {},
          "execution_count": 4
        }
      ]
    },
    {
      "cell_type": "code",
      "source": [
        "tf.zeros(shape=[2,2,3,3,2])"
      ],
      "metadata": {
        "colab": {
          "base_uri": "https://localhost:8080/"
        },
        "id": "lmJ5z9R9LK4P",
        "outputId": "8755a8df-d45b-4ea8-e6b5-953ebaf1ba81"
      },
      "execution_count": 5,
      "outputs": [
        {
          "output_type": "execute_result",
          "data": {
            "text/plain": [
              "<tf.Tensor: shape=(2, 2, 3, 3, 2), dtype=float32, numpy=\n",
              "array([[[[[0., 0.],\n",
              "          [0., 0.],\n",
              "          [0., 0.]],\n",
              "\n",
              "         [[0., 0.],\n",
              "          [0., 0.],\n",
              "          [0., 0.]],\n",
              "\n",
              "         [[0., 0.],\n",
              "          [0., 0.],\n",
              "          [0., 0.]]],\n",
              "\n",
              "\n",
              "        [[[0., 0.],\n",
              "          [0., 0.],\n",
              "          [0., 0.]],\n",
              "\n",
              "         [[0., 0.],\n",
              "          [0., 0.],\n",
              "          [0., 0.]],\n",
              "\n",
              "         [[0., 0.],\n",
              "          [0., 0.],\n",
              "          [0., 0.]]]],\n",
              "\n",
              "\n",
              "\n",
              "       [[[[0., 0.],\n",
              "          [0., 0.],\n",
              "          [0., 0.]],\n",
              "\n",
              "         [[0., 0.],\n",
              "          [0., 0.],\n",
              "          [0., 0.]],\n",
              "\n",
              "         [[0., 0.],\n",
              "          [0., 0.],\n",
              "          [0., 0.]]],\n",
              "\n",
              "\n",
              "        [[[0., 0.],\n",
              "          [0., 0.],\n",
              "          [0., 0.]],\n",
              "\n",
              "         [[0., 0.],\n",
              "          [0., 0.],\n",
              "          [0., 0.]],\n",
              "\n",
              "         [[0., 0.],\n",
              "          [0., 0.],\n",
              "          [0., 0.]]]]], dtype=float32)>"
            ]
          },
          "metadata": {},
          "execution_count": 5
        }
      ]
    },
    {
      "cell_type": "code",
      "source": [
        "print(tensor1.ndim)"
      ],
      "metadata": {
        "colab": {
          "base_uri": "https://localhost:8080/"
        },
        "id": "DbUmdXf4LWCu",
        "outputId": "c535d880-c564-4c3b-c810-c9048159246c"
      },
      "execution_count": 6,
      "outputs": [
        {
          "output_type": "stream",
          "name": "stdout",
          "text": [
            "4\n"
          ]
        }
      ]
    },
    {
      "cell_type": "code",
      "source": [
        "tensor_2=tf.zeros(shape=(9,2,3,4,6))"
      ],
      "metadata": {
        "id": "nKCRYiL-YmaJ"
      },
      "execution_count": 7,
      "outputs": []
    },
    {
      "cell_type": "code",
      "source": [
        "print(tensor_2.ndim)"
      ],
      "metadata": {
        "colab": {
          "base_uri": "https://localhost:8080/"
        },
        "id": "A8Hf5iz4Y0KI",
        "outputId": "2df576f2-f9dd-4951-81da-2223bdb36b2d"
      },
      "execution_count": 8,
      "outputs": [
        {
          "output_type": "stream",
          "name": "stdout",
          "text": [
            "5\n"
          ]
        }
      ]
    },
    {
      "cell_type": "code",
      "source": [
        "print(tensor_2[0].shape)"
      ],
      "metadata": {
        "colab": {
          "base_uri": "https://localhost:8080/"
        },
        "id": "ipEDmD1jY7c4",
        "outputId": "f0b79c40-3a9f-4be9-a9de-ac34eb5d35ea"
      },
      "execution_count": 9,
      "outputs": [
        {
          "output_type": "stream",
          "name": "stdout",
          "text": [
            "(2, 3, 4, 6)\n"
          ]
        }
      ]
    },
    {
      "cell_type": "code",
      "source": [
        "print(tensor_2.shape[0])"
      ],
      "metadata": {
        "colab": {
          "base_uri": "https://localhost:8080/"
        },
        "id": "ciUgxZ5xZRUX",
        "outputId": "2479beb6-8ff7-4218-e9ba-b4cb8c1ee71a"
      },
      "execution_count": 10,
      "outputs": [
        {
          "output_type": "stream",
          "name": "stdout",
          "text": [
            "9\n"
          ]
        }
      ]
    },
    {
      "cell_type": "code",
      "source": [
        "tensor_2[0].shape"
      ],
      "metadata": {
        "colab": {
          "base_uri": "https://localhost:8080/"
        },
        "id": "EwWqmWwnZbNn",
        "outputId": "5fb8b9f0-9722-4772-e7ef-bccb29bb0dab"
      },
      "execution_count": 11,
      "outputs": [
        {
          "output_type": "execute_result",
          "data": {
            "text/plain": [
              "TensorShape([2, 3, 4, 6])"
            ]
          },
          "metadata": {},
          "execution_count": 11
        }
      ]
    },
    {
      "cell_type": "code",
      "source": [
        "tensor1\n"
      ],
      "metadata": {
        "colab": {
          "base_uri": "https://localhost:8080/"
        },
        "id": "Qxs0yJINZ8sQ",
        "outputId": "f7ce6724-ea48-4606-8318-ea5700de9aa6"
      },
      "execution_count": 12,
      "outputs": [
        {
          "output_type": "execute_result",
          "data": {
            "text/plain": [
              "<tf.Tensor: shape=(1, 1, 2, 4), dtype=int32, numpy=\n",
              "array([[[[2, 3, 4, 5],\n",
              "         [6, 7, 8, 9]]]], dtype=int32)>"
            ]
          },
          "metadata": {},
          "execution_count": 12
        }
      ]
    },
    {
      "cell_type": "code",
      "source": [
        "tensor1[:1,:1,:1:1]"
      ],
      "metadata": {
        "colab": {
          "base_uri": "https://localhost:8080/"
        },
        "id": "Wg8FLuSRRE7A",
        "outputId": "0d514371-a0d6-4d29-e4a9-7a7e0e67237c"
      },
      "execution_count": 13,
      "outputs": [
        {
          "output_type": "execute_result",
          "data": {
            "text/plain": [
              "<tf.Tensor: shape=(1, 1, 1, 4), dtype=int32, numpy=array([[[[2, 3, 4, 5]]]], dtype=int32)>"
            ]
          },
          "metadata": {},
          "execution_count": 13
        }
      ]
    },
    {
      "cell_type": "code",
      "source": [
        ""
      ],
      "metadata": {
        "id": "B6ViQ6rTRK7f"
      },
      "execution_count": null,
      "outputs": []
    }
  ]
}